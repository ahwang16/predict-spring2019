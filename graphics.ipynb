{
 "cells": [
  {
   "cell_type": "code",
   "execution_count": 1,
   "metadata": {},
   "outputs": [],
   "source": [
    "import matplotlib.pyplot as plt"
   ]
  },
  {
   "cell_type": "code",
   "execution_count": 2,
   "metadata": {},
   "outputs": [],
   "source": [
    "data = {1: 487, 2: 269, 3: 142, -1: 149, 4: 90, 5: 67, 6: 42, 7: 27, -7: 4, -6: 5, -5: 8, -4: 13, -3: 20, 9: 12, 8: 18, -2: 45, 10: 11, 11: 7, 12: 3, 13: 2, 14: 3, 15: 4, 16: 4, 31: 2, 17: 2, 18: 2, -11: 3, -10: 2, -9: 2, -8: 1, 20: 1, 24: 1, 26: 1, 27: 1, 32: 1, 36: 1, 38: 1, 39: 1, -12: 1, -15: 1, -14: 1}"
   ]
  },
  {
   "cell_type": "code",
   "execution_count": 23,
   "metadata": {},
   "outputs": [],
   "source": [
    "x = []\n",
    "y = []\n",
    "\n",
    "for k in sorted(data):\n",
    "    x.append(k)\n",
    "    y.append(data[k])"
   ]
  },
  {
   "cell_type": "code",
   "execution_count": 31,
   "metadata": {},
   "outputs": [],
   "source": [
    "norm = sum(y)\n",
    "for i in range(len(y)):\n",
    "    y[i] = y[i] / norm * 100"
   ]
  },
  {
   "cell_type": "code",
   "execution_count": 32,
   "metadata": {},
   "outputs": [
    {
     "data": {
      "image/png": "[encoded data removed]",
      "text/plain": [
       "<Figure size 432x288 with 1 Axes>"
      ]
     },
     "metadata": {},
     "output_type": "display_data"
    }
   ],
   "source": [
    "plt.xlabel('d')\n",
    "plt.ylabel('%')\n",
    "plt.plot(x,y)\n",
    "plt.savefig('distfreq.png')"
   ]
  },
  {
   "cell_type": "code",
   "execution_count": 29,
   "metadata": {},
   "outputs": [
    {
     "data": {
      "text/plain": [
       "<Figure size 432x288 with 0 Axes>"
      ]
     },
     "metadata": {},
     "output_type": "display_data"
    }
   ],
   "source": []
  },
  {
   "cell_type": "code",
   "execution_count": null,
   "metadata": {},
   "outputs": [],
   "source": []
  }
 ],
 "metadata": {
  "kernelspec": {
   "display_name": "Python 3",
   "language": "python",
   "name": "python3"
  },
  "language_info": {
   "codemirror_mode": {
    "name": "ipython",
    "version": 3
   },
   "file_extension": ".py",
   "mimetype": "text/x-python",
   "name": "python",
   "nbconvert_exporter": "python",
   "pygments_lexer": "ipython3",
   "version": "3.7.0"
  }
 },
 "nbformat": 4,
 "nbformat_minor": 2
}
